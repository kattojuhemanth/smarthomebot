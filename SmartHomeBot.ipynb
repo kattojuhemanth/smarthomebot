{
  "nbformat": 4,
  "nbformat_minor": 0,
  "metadata": {
    "colab": {
      "name": "SmartHomeBot.ipynb",
      "provenance": [],
      "collapsed_sections": [],
      "authorship_tag": "ABX9TyMWhoBGTq4EvyY1XysmR20c",
      "include_colab_link": true
    },
    "kernelspec": {
      "display_name": "Python 3",
      "name": "python3"
    },
    "language_info": {
      "name": "python"
    }
  },
  "cells": [
    {
      "cell_type": "markdown",
      "metadata": {
        "id": "view-in-github",
        "colab_type": "text"
      },
      "source": [
        "<a href=\"https://colab.research.google.com/github/kattojuhemanth/smarthomebot/blob/main/SmartHomeBot.ipynb\" target=\"_parent\"><img src=\"https://colab.research.google.com/assets/colab-badge.svg\" alt=\"Open In Colab\"/></a>"
      ]
    },
    {
      "cell_type": "code",
      "metadata": {
        "id": "Kf2_P57Et-If",
        "colab": {
          "base_uri": "https://localhost:8080/"
        },
        "outputId": "9dd1e85d-203c-44f4-df5f-253b356f6627"
      },
      "source": [
        "pip install adafruit_IO --quiet"
      ],
      "execution_count": 1,
      "outputs": [
        {
          "output_type": "stream",
          "name": "stdout",
          "text": [
            "\u001b[K     |████████████████████████████████| 47 kB 2.5 MB/s \n",
            "\u001b[K     |████████████████████████████████| 101 kB 6.7 MB/s \n",
            "\u001b[?25h  Building wheel for adafruit-IO (setup.py) ... \u001b[?25l\u001b[?25hdone\n",
            "  Building wheel for paho-mqtt (setup.py) ... \u001b[?25l\u001b[?25hdone\n"
          ]
        }
      ]
    },
    {
      "cell_type": "code",
      "metadata": {
        "id": "RcZwfqOltSXG",
        "colab": {
          "base_uri": "https://localhost:8080/"
        },
        "outputId": "8b4754e8-7dcb-43c1-cb73-1e55abf51eb5"
      },
      "source": [
        "pip install python-telegram-bot==13.0 --quiet"
      ],
      "execution_count": 2,
      "outputs": [
        {
          "output_type": "stream",
          "name": "stdout",
          "text": [
            "\u001b[?25l\r\u001b[K     |▉                               | 10 kB 20.9 MB/s eta 0:00:01\r\u001b[K     |█▋                              | 20 kB 24.4 MB/s eta 0:00:01\r\u001b[K     |██▍                             | 30 kB 28.4 MB/s eta 0:00:01\r\u001b[K     |███▎                            | 40 kB 17.7 MB/s eta 0:00:01\r\u001b[K     |████                            | 51 kB 8.7 MB/s eta 0:00:01\r\u001b[K     |████▉                           | 61 kB 7.3 MB/s eta 0:00:01\r\u001b[K     |█████▊                          | 71 kB 7.6 MB/s eta 0:00:01\r\u001b[K     |██████▌                         | 81 kB 8.5 MB/s eta 0:00:01\r\u001b[K     |███████▎                        | 92 kB 6.9 MB/s eta 0:00:01\r\u001b[K     |████████                        | 102 kB 7.1 MB/s eta 0:00:01\r\u001b[K     |█████████                       | 112 kB 7.1 MB/s eta 0:00:01\r\u001b[K     |█████████▊                      | 122 kB 7.1 MB/s eta 0:00:01\r\u001b[K     |██████████▌                     | 133 kB 7.1 MB/s eta 0:00:01\r\u001b[K     |███████████▍                    | 143 kB 7.1 MB/s eta 0:00:01\r\u001b[K     |████████████▏                   | 153 kB 7.1 MB/s eta 0:00:01\r\u001b[K     |█████████████                   | 163 kB 7.1 MB/s eta 0:00:01\r\u001b[K     |█████████████▊                  | 174 kB 7.1 MB/s eta 0:00:01\r\u001b[K     |██████████████▋                 | 184 kB 7.1 MB/s eta 0:00:01\r\u001b[K     |███████████████▍                | 194 kB 7.1 MB/s eta 0:00:01\r\u001b[K     |████████████████▏               | 204 kB 7.1 MB/s eta 0:00:01\r\u001b[K     |█████████████████               | 215 kB 7.1 MB/s eta 0:00:01\r\u001b[K     |█████████████████▉              | 225 kB 7.1 MB/s eta 0:00:01\r\u001b[K     |██████████████████▋             | 235 kB 7.1 MB/s eta 0:00:01\r\u001b[K     |███████████████████▌            | 245 kB 7.1 MB/s eta 0:00:01\r\u001b[K     |████████████████████▎           | 256 kB 7.1 MB/s eta 0:00:01\r\u001b[K     |█████████████████████           | 266 kB 7.1 MB/s eta 0:00:01\r\u001b[K     |█████████████████████▉          | 276 kB 7.1 MB/s eta 0:00:01\r\u001b[K     |██████████████████████▊         | 286 kB 7.1 MB/s eta 0:00:01\r\u001b[K     |███████████████████████▌        | 296 kB 7.1 MB/s eta 0:00:01\r\u001b[K     |████████████████████████▎       | 307 kB 7.1 MB/s eta 0:00:01\r\u001b[K     |█████████████████████████▏      | 317 kB 7.1 MB/s eta 0:00:01\r\u001b[K     |██████████████████████████      | 327 kB 7.1 MB/s eta 0:00:01\r\u001b[K     |██████████████████████████▊     | 337 kB 7.1 MB/s eta 0:00:01\r\u001b[K     |███████████████████████████▌    | 348 kB 7.1 MB/s eta 0:00:01\r\u001b[K     |████████████████████████████▍   | 358 kB 7.1 MB/s eta 0:00:01\r\u001b[K     |█████████████████████████████▏  | 368 kB 7.1 MB/s eta 0:00:01\r\u001b[K     |██████████████████████████████  | 378 kB 7.1 MB/s eta 0:00:01\r\u001b[K     |██████████████████████████████▉ | 389 kB 7.1 MB/s eta 0:00:01\r\u001b[K     |███████████████████████████████▋| 399 kB 7.1 MB/s eta 0:00:01\r\u001b[K     |████████████████████████████████| 404 kB 7.1 MB/s \n",
            "\u001b[K     |████████████████████████████████| 58 kB 5.3 MB/s \n",
            "\u001b[K     |████████████████████████████████| 3.0 MB 52.0 MB/s \n",
            "\u001b[?25h"
          ]
        }
      ]
    },
    {
      "cell_type": "code",
      "metadata": {
        "colab": {
          "base_uri": "https://localhost:8080/"
        },
        "id": "ma-EclY5tywz",
        "outputId": "93ccf2ab-ff2a-4a7a-a0b3-a8265c5004dc"
      },
      "source": [
        "from telegram.ext import Updater, MessageHandler, Filters\n",
        "from Adafruit_IO import Client\n",
        "aio = Client('heroofcentury', 'aio_dtcb35PAz4Pz6rXzQxzoiKyjxM5Z')\n",
        "light = aio.feeds('light')\n",
        "fan = aio.feeds('fan')\n",
        "\n",
        "def start(bot,update):\n",
        "  chat_id=bot.message.chat_id\n",
        "  bot.message.reply_text('Please type in /help for the help reg. the commands of bot')\n",
        "  print('STARTED')\n",
        "def hel(bot,update):\n",
        "  chat_id=bot.message.chat_id\n",
        "  bot.message.reply_text('Commands\\n\\tTurn on light - LIGHT ON\\n\\tTurn off light - LIGHT OFF\\n\\tTurn on Fan - FAN ON\\n\\tTurn off fan - FAN OFF')\n",
        "  print('HELPED')\n",
        "def lon(bot,update):\n",
        "  chat_id=bot.message.chat_id\n",
        "  aio.send_data(light.key, 1)\n",
        "  bot.message.reply_text('Okay, turning on the light...')\n",
        "  print('LIGHT ON')\n",
        "def lof(bot,update):\n",
        "  chat_id=bot.message.chat_id\n",
        "  aio.send_data(light.key, 0)\n",
        "  bot.message.reply_text('Okay, turning off the light...')\n",
        "  print('LIGHT OFF')\n",
        "def fon(bot,update):\n",
        "  chat_id=bot.message.chat_id\n",
        "  aio.send_data(fan.key, 1)\n",
        "  bot.message.reply_text('Okay, turning on the fan...')\n",
        "  print('FAN ON')\n",
        "def fof(bot,update):\n",
        "  chat_id=bot.message.chat_id\n",
        "  aio.send_data(fan.key, 0)\n",
        "  bot.message.reply_text('Okay, turning off the fan...')\n",
        "  print('FAN OFF')\n",
        "def main(bot,update):\n",
        "  mes = bot.message.text\n",
        "  if (mes == \"/start\" ):\n",
        "    start(bot,update)\n",
        "  elif (mes == \"/help\" ):\n",
        "    hel(bot,update)\n",
        "  elif (mes == \"Turn on light\" ):\n",
        "    lon(bot,update)\n",
        "  elif (mes == \"Turn off light\"):\n",
        "    lof(bot,update)\n",
        "  elif (mes == \"Turn on fan\" ):\n",
        "    fon(bot,update)\n",
        "  elif (mes == \"Turn off fan\" ):\n",
        "    fof(bot,update)\n",
        "bot_token = '1964189139:AAHAieTfoTdxnvLokgKrRmPDYBSWk_W2nXs'\n",
        "u = Updater(bot_token,use_context=True)\n",
        "dp = u.dispatcher\n",
        "dp.add_handler(MessageHandler(Filters.text,main))\n",
        "u.start_polling()\n",
        "u.idle()"
      ],
      "execution_count": 4,
      "outputs": [
        {
          "output_type": "stream",
          "name": "stdout",
          "text": [
            "LIGHT ON\n",
            "STARTED\n",
            "STARTED\n"
          ]
        }
      ]
    }
  ]
}