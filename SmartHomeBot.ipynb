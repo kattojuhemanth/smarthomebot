{
  "nbformat": 4,
  "nbformat_minor": 0,
  "metadata": {
    "colab": {
      "name": "SmartHomeBot.ipynb",
      "provenance": [],
      "collapsed_sections": [],
      "authorship_tag": "ABX9TyMf+IMutCgM1dnH1Y49mARK",
      "include_colab_link": true
    },
    "kernelspec": {
      "display_name": "Python 3",
      "name": "python3"
    },
    "language_info": {
      "name": "python"
    }
  },
  "cells": [
    {
      "cell_type": "markdown",
      "metadata": {
        "id": "view-in-github",
        "colab_type": "text"
      },
      "source": [
        "<a href=\"https://colab.research.google.com/github/kattojuhemanth/smarthomebot/blob/main/SmartHomeBot.ipynb\" target=\"_parent\"><img src=\"https://colab.research.google.com/assets/colab-badge.svg\" alt=\"Open In Colab\"/></a>"
      ]
    },
    {
      "cell_type": "code",
      "metadata": {
        "id": "Kf2_P57Et-If"
      },
      "source": [
        "pip install adafruit_IO --quiet"
      ],
      "execution_count": null,
      "outputs": []
    },
    {
      "cell_type": "code",
      "metadata": {
        "id": "RcZwfqOltSXG"
      },
      "source": [
        "pip install python-telegram-bot==13.0 --quiet"
      ],
      "execution_count": null,
      "outputs": []
    },
    {
      "cell_type": "code",
      "metadata": {
        "colab": {
          "background_save": true,
          "base_uri": "https://localhost:8080/"
        },
        "id": "ma-EclY5tywz",
        "outputId": "bc240b4f-57ca-410a-e515-8fb7ee02a1ef"
      },
      "source": [
        "from telegram.ext import Updater, MessageHandler, Filters\n",
        "from Adafruit_IO import Client\n",
        "aio = Client('heroofcentury', 'aio_KZLx56RD9HeM1UuXUoeWKKDN2TB1')\n",
        "light = aio.feeds('light')\n",
        "fan = aio.feeds('fan')\n",
        "\n",
        "def start(bot,update):\n",
        "  chat_id=bot.message.chat_id\n",
        "  bot.message.reply_text('Please type in /help for the help reg. the commands of bot')\n",
        "  print('STARTED')\n",
        "def hel(bot,update):\n",
        "  chat_id=bot.message.chat_id\n",
        "  bot.message.reply_text('Commands\\n\\tTurn on light - LIGHT ON\\n\\tTurn off light - LIGHT OFF\\n\\tTurn on Fan - FAN ON\\n\\tTurn off fan - FAN OFF')\n",
        "  print('HELPED')\n",
        "def lon(bot,update):\n",
        "  chat_id=bot.message.chat_id\n",
        "  aio.send_data(light.key, 1)\n",
        "  bot.message.reply_text('Okay, turning on the light...')\n",
        "  print('LIGHT ON')\n",
        "def lof(bot,update):\n",
        "  chat_id=bot.message.chat_id\n",
        "  aio.send_data(light.key, 0)\n",
        "  bot.message.reply_text('Okay, turning off the light...')\n",
        "  print('LIGHT OFF')\n",
        "def fon(bot,update):\n",
        "  chat_id=bot.message.chat_id\n",
        "  aio.send_data(fan.key, 1)\n",
        "  bot.message.reply_text('Okay, turning on the fan...')\n",
        "  print('FAN ON')\n",
        "def fof(bot,update):\n",
        "  chat_id=bot.message.chat_id\n",
        "  aio.send_data(fan.key, 0)\n",
        "  bot.message.reply_text('Okay, turning off the fan...')\n",
        "  print('FAN OFF')\n",
        "def main(bot,update):\n",
        "  mes = bot.message.text\n",
        "  if (mes == \"/start\" ):\n",
        "    start(bot,update)\n",
        "  elif (mes == \"/help\" ):\n",
        "    hel(bot,update)\n",
        "  elif (mes == \"Turn on light\" ):\n",
        "    lon(bot,update)\n",
        "  elif (mes == \"Turn off light\"):\n",
        "    lof(bot,update)\n",
        "  elif (mes == \"Turn on fan\" ):\n",
        "    fon(bot,update)\n",
        "  elif (mes == \"Turn off fan\" ):\n",
        "    fof(bot,update)\n",
        "bot_token = '1964189139:AAHAieTfoTdxnvLokgKrRmPDYBSWk_W2nXs'\n",
        "u = Updater(bot_token,use_context=True)\n",
        "dp = u.dispatcher\n",
        "dp.add_handler(MessageHandler(Filters.text,main))\n",
        "u.start_polling()\n",
        "u.idle()"
      ],
      "execution_count": null,
      "outputs": [
        {
          "name": "stdout",
          "output_type": "stream",
          "text": [
            "FAN ON\n"
          ]
        }
      ]
    }
  ]
}